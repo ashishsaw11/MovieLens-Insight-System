{
 "cells": [
  {
   "cell_type": "code",
   "execution_count": null,
   "id": "37cf18b4",
   "metadata": {},
   "outputs": [
    {
     "name": "stderr",
     "output_type": "stream",
     "text": [
      "[Parallel(n_jobs=-1)]: Using backend ThreadingBackend with 12 concurrent workers.\n",
      "[Parallel(n_jobs=-1)]: Done  26 tasks      | elapsed:    7.4s\n",
      "[Parallel(n_jobs=-1)]: Done  50 out of  50 | elapsed:   10.9s finished\n",
      "[Parallel(n_jobs=12)]: Using backend ThreadingBackend with 12 concurrent workers.\n",
      "[Parallel(n_jobs=12)]: Done  26 tasks      | elapsed:    2.4s\n",
      "[Parallel(n_jobs=12)]: Done  50 out of  50 | elapsed:    3.8s finished\n",
      "C:\\Users\\ASHISH\\AppData\\Roaming\\Python\\Python312\\site-packages\\sklearn\\metrics\\_classification.py:1565: UndefinedMetricWarning: Precision is ill-defined and being set to 0.0 in labels with no predicted samples. Use `zero_division` parameter to control this behavior.\n",
      "  _warn_prf(average, modifier, f\"{metric.capitalize()} is\", len(result))\n"
     ]
    },
    {
     "name": "stdout",
     "output_type": "stream",
     "text": [
      "              precision    recall  f1-score   support\n",
      "\n",
      "           0       0.16      0.01      0.03    116418\n",
      "           1       0.00      0.00      0.00     57898\n",
      "           2       0.00      0.00      0.00     20336\n",
      "           3       0.00      0.00      0.00     34413\n",
      "           4       0.18      0.56      0.27    173204\n",
      "           5       0.00      0.00      0.00     38257\n",
      "           6       0.00      0.00      0.00      3509\n",
      "           7       0.19      0.50      0.28    172665\n",
      "           8       0.09      0.00      0.00     16534\n",
      "           9       0.00      0.00      0.00      9130\n",
      "          10       0.17      0.00      0.00     35095\n",
      "          11       0.00      0.00      0.00     20701\n",
      "          12       0.00      0.00      0.00     18651\n",
      "          13       0.00      0.00      0.00     71846\n",
      "          14       0.17      0.00      0.00     66901\n",
      "          15       0.12      0.00      0.00     91449\n",
      "          16       0.00      0.00      0.00     30002\n",
      "          17       0.00      0.00      0.00     10341\n",
      "\n",
      "    accuracy                           0.19    987350\n",
      "   macro avg       0.06      0.06      0.03    987350\n",
      "weighted avg       0.12      0.19      0.10    987350\n",
      "\n",
      "✅ Model, encoder, and encoder classes saved successfully!\n"
     ]
    },
    {
     "name": "stderr",
     "output_type": "stream",
     "text": [
      "C:\\Users\\ASHISH\\AppData\\Roaming\\Python\\Python312\\site-packages\\sklearn\\metrics\\_classification.py:1565: UndefinedMetricWarning: Precision is ill-defined and being set to 0.0 in labels with no predicted samples. Use `zero_division` parameter to control this behavior.\n",
      "  _warn_prf(average, modifier, f\"{metric.capitalize()} is\", len(result))\n",
      "C:\\Users\\ASHISH\\AppData\\Roaming\\Python\\Python312\\site-packages\\sklearn\\metrics\\_classification.py:1565: UndefinedMetricWarning: Precision is ill-defined and being set to 0.0 in labels with no predicted samples. Use `zero_division` parameter to control this behavior.\n",
      "  _warn_prf(average, modifier, f\"{metric.capitalize()} is\", len(result))\n"
     ]
    }
   ],
   "source": [
    "import pandas as pd\n",
    "from sklearn.ensemble import RandomForestClassifier\n",
    "from sklearn.model_selection import train_test_split\n",
    "from sklearn.metrics import classification_report\n",
    "from sklearn.preprocessing import LabelEncoder\n",
    "import gc\n",
    "import joblib\n",
    "\n",
    "movies_df = pd.read_csv(\"Movies.csv\", encoding='latin1')\n",
    "ratings_df = pd.read_csv(\"Ratings.csv\", encoding='latin1')\n",
    "users_df = pd.read_csv(\"Users.csv\", encoding='latin1')\n",
    "\n",
    "movies_df = movies_df.loc[:, ~movies_df.columns.str.contains('^Unnamed')]\n",
    "movies_df['Year'] = movies_df['Title'].str.extract(r'\\((\\d{4})\\)').astype('Int64')\n",
    "movies_df['Category'] = movies_df['Category'].str.split('|')\n",
    "movies_df = movies_df.explode('Category')\n",
    "\n",
    "merged_df = pd.merge(ratings_df, movies_df, on='MovieID', how='left')\n",
    "merged_df = pd.merge(merged_df, users_df, on='UserID', how='left')\n",
    "merged_df = merged_df.dropna(subset=['Year', 'Category'])\n",
    "\n",
    "age_map = {1: 'Under 18', 18: '18-24', 25: '25-34', 35: '35-44', 45: '45-49', 50: '50-55', 56: '56+'}\n",
    "merged_df['AgeGroup'] = merged_df['Age'].map(age_map)\n",
    "\n",
    "occupation_map = {\n",
    "    0: \"Not specified or other\", 1: \"Academician\", 2: \"Artist\", 3: \"Admin/Office work\",\n",
    "    4: \"Grad/Higher Ed student\", 5: \"Customer Service/Consultant\", 6: \"Doctor and Medical services\",\n",
    "    7: \"Executive and Managerial\", 8: \"Farmer and Agriculture\", 9: \"Homemaker\", 10: \"K-12 Student\",\n",
    "    11: \"Lawyer\", 12: \"Programmer\", 13: \"Retired\", 14: \"Sales and Marketing\", 15: \"Scientist\",\n",
    "    16: \"Self-Employed\", 17: \"Engineer and Technician\", 18: \"Tradesman/Craftsman\", 19: \"Unemployed\", 20: \"Writer\"\n",
    "}\n",
    "merged_df['OccupationName'] = merged_df['Occupation'].map(occupation_map)\n",
    "\n",
    "df = merged_df[['Occupation', 'Age', 'Category']].copy()\n",
    "df = df.dropna(subset=['Category'])\n",
    "df['Occupation'] = df['Occupation'].astype('category')\n",
    "df['Age'] = df['Age'].astype('int16')\n",
    "df['Occupation'] = df['Occupation'].cat.codes.astype('int16')\n",
    "\n",
    "le = LabelEncoder()\n",
    "df['CategoryLabel'] = le.fit_transform(df['Category'])\n",
    "X = df[['Occupation', 'Age']]\n",
    "y = df['CategoryLabel']\n",
    "\n",
    "gc.collect()\n",
    "\n",
    "X_train, X_test, y_train, y_test = train_test_split(X, y, test_size=0.5, random_state=42, stratify=y)\n",
    "\n",
    "model = RandomForestClassifier(\n",
    "    n_estimators=50,\n",
    "    max_depth=15,\n",
    "    min_samples_split=10,\n",
    "    n_jobs=-1,\n",
    "    random_state=42,\n",
    "    verbose=1\n",
    ")\n",
    "model.fit(X_train, y_train)\n",
    "y_pred = model.predict(X_test)\n",
    "print(classification_report(y_test, y_pred))\n",
    "\n",
    "joblib.dump(model, 'rf_movie_category_model.pkl')\n",
    "joblib.dump(le, 'category_label_encoder.pkl')\n",
    "joblib.dump(le.classes_, 'category_label_encoder_classes.pkl')\n",
    "\n",
    "print(\"✅ Model, encoder, and encoder classes saved successfully!\")\n"
   ]
  },
  {
   "cell_type": "code",
   "execution_count": null,
   "id": "6b9b15c9",
   "metadata": {},
   "outputs": [
    {
     "name": "stdout",
     "output_type": "stream",
     "text": [
      "    Year  MovieCount\n",
      "0   1919           3\n",
      "1   1920           2\n",
      "2   1921           1\n",
      "3   1922           2\n",
      "4   1923           3\n",
      "..   ...         ...\n",
      "76  1996         516\n",
      "77  1997         508\n",
      "78  1998         548\n",
      "79  1999         414\n",
      "80  2000         235\n",
      "\n",
      "[81 rows x 2 columns]\n"
     ]
    }
   ],
   "source": [
    "\n",
    "\n"
   ]
  },
  {
   "cell_type": "code",
   "execution_count": null,
   "id": "a0bdfaa0",
   "metadata": {},
   "outputs": [
    {
     "name": "stdout",
     "output_type": "stream",
     "text": [
      "    Year  MovieCount\n",
      "0   1919           3\n",
      "1   1920           2\n",
      "2   1921           1\n",
      "3   1922           2\n",
      "4   1923           3\n",
      "..   ...         ...\n",
      "76  1996         516\n",
      "77  1997         508\n",
      "78  1998         548\n",
      "79  1999         414\n",
      "80  2000         235\n",
      "\n",
      "[81 rows x 2 columns]\n"
     ]
    }
   ],
   "source": [
    "\n"
   ]
  },
  {
   "cell_type": "code",
   "execution_count": 22,
   "id": "6942b44e",
   "metadata": {},
   "outputs": [],
   "source": [
    "# Group by Category + Age + Occupation\n",
    "cat_target = merged.groupby(['Category', 'Age', 'Occupation'])['Rating'].count().reset_index(name='Likes')\n",
    "\n",
    "# For UI model: When user enters Category → Recommend Age+Occupation\n",
    "# top_likers = cat_target.sort_values(by='Likes', ascending=False).groupby('Category').head(1)\n",
    "\n",
    "# print(\"\\nFor each Category → Most likely Age Group + Occupation:\\n\")\n",
    "# print(top_likers[['Category', 'Age', 'Occupation', 'Likes']])\n"
   ]
  }
 ],
 "metadata": {
  "kernelspec": {
   "display_name": "Python 3",
   "language": "python",
   "name": "python3"
  },
  "language_info": {
   "codemirror_mode": {
    "name": "ipython",
    "version": 3
   },
   "file_extension": ".py",
   "mimetype": "text/x-python",
   "name": "python",
   "nbconvert_exporter": "python",
   "pygments_lexer": "ipython3",
   "version": "3.12.3"
  }
 },
 "nbformat": 4,
 "nbformat_minor": 5
}
